{
 "cells": [
  {
   "cell_type": "code",
   "execution_count": 2,
   "id": "e5e457a4",
   "metadata": {},
   "outputs": [],
   "source": [
    "data_matrix=[[1.438, 0.808, 0.928, 0.778, 0.911, 0.796, 0.806, 0.835, 0.837, 0.961],\n",
    " [1.166, 0.615, 0.847, 0.988, 1.054, 0.865, 0.873, 0.939, 1.051, 1.019],\n",
    " [0.226, 0.965, 0.937, 1.094, 0.929, 0.866, 0.984, 1.168, 1.011, 0.988],\n",
    " [1.839, 0.953, 0.924, 1.015, 1.132, 1.206, 1.044, 0.953, 1.12,  0.947],\n",
    " [0.981, 0.877, 0.947, 1.081, 1.08,  0.964, 1.07,  1.006, 1.059, 1.042]]\n",
    "\n",
    "\n",
    "t_vec=[  0,  20,  40,  60,  80, 100, 120, 140, 160, 180]"
   ]
  },
  {
   "cell_type": "code",
   "execution_count": null,
   "id": "8bf06ecf",
   "metadata": {},
   "outputs": [],
   "source": []
  }
 ],
 "metadata": {
  "kernelspec": {
   "display_name": "Python 3 (ipykernel)",
   "language": "python",
   "name": "python3"
  },
  "language_info": {
   "codemirror_mode": {
    "name": "ipython",
    "version": 3
   },
   "file_extension": ".py",
   "mimetype": "text/x-python",
   "name": "python",
   "nbconvert_exporter": "python",
   "pygments_lexer": "ipython3",
   "version": "3.9.13"
  }
 },
 "nbformat": 4,
 "nbformat_minor": 5
}
