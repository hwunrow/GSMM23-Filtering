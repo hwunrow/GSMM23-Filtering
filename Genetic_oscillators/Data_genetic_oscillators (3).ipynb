{
 "cells": [
  {
   "cell_type": "code",
   "execution_count": 1,
   "id": "1680fc20",
   "metadata": {},
   "outputs": [],
   "source": [
    "data_matrix=[[0.799, 0.502, 0.956, 1.048, 1.169, 1.549, 2.192, 2.764, 2.895, 2.887],\n",
    " [0.822, 1.483, 2.251, 1.771, 1.245, 1.91,  2.021, 1.335, 1.819, 2.221],\n",
    " [0.307, 3.684, 2.668, 2.297, 2.15,  1.491, 1.025, 0.494, 0.476, 0.766],\n",
    " [0.728, 1.756, 0.877, 1.207, 1.807, 1.042, 1.064, 1.884, 1.287, 0.965],\n",
    " [0.042, 0.844, 1.164, 1.364, 1.136, 1.219, 1.203, 0.972, 0.971, 0.875],\n",
    " [0.538, 1.585, 0.845, 0.656, 1.39,  1.045, 0.888, 1.239, 1.102, 0.892],\n",
    " [0.35,  1.492, 0.822, 0.731, 1.369, 0.952, 0.766, 1.203, 1.31,  0.848]]\n",
    "\n",
    "\n",
    "time_vector=[  0,  20,  40,  60,  80, 100, 120, 140, 160, 180]\n"
   ]
  },
  {
   "cell_type": "code",
   "execution_count": null,
   "id": "5fd16085",
   "metadata": {},
   "outputs": [],
   "source": []
  }
 ],
 "metadata": {
  "kernelspec": {
   "display_name": "Python 3 (ipykernel)",
   "language": "python",
   "name": "python3"
  },
  "language_info": {
   "codemirror_mode": {
    "name": "ipython",
    "version": 3
   },
   "file_extension": ".py",
   "mimetype": "text/x-python",
   "name": "python",
   "nbconvert_exporter": "python",
   "pygments_lexer": "ipython3",
   "version": "3.9.13"
  }
 },
 "nbformat": 4,
 "nbformat_minor": 5
}
