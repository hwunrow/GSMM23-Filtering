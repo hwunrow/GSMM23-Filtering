{
 "cells": [
  {
   "cell_type": "code",
   "execution_count": 1,
   "id": "cc991a78",
   "metadata": {},
   "outputs": [],
   "source": [
    "data_matrix=[[6.160e-01, 6.670e-01, 1.010e+00, 1.063e+00, 1.208e+00, 1.371e+00, 2.287e+00,\n",
    "  2.837e+00, 2.825e+00, 2.854e+00],\n",
    " [9.090e-01, 1.671e+00, 2.191e+00, 1.683e+00, 1.365e+00, 1.909e+00, 1.945e+00,\n",
    "  1.343e+00, 1.945e+00, 1.971e+00],\n",
    " [3.430e-01, 3.730e+00, 2.674e+00, 2.143e+00, 2.050e+00, 1.740e+00, 1.026e+00,\n",
    "  4.820e-01, 4.880e-01, 4.600e-01],\n",
    " [5.690e-01, 1.489e+00, 7.050e-01, 1.114e+00, 1.828e+00, 8.820e-01, 1.031e+00,\n",
    "  2.024e+00, 1.274e+00, 8.750e-01],\n",
    " [3.000e-03, 1.028e+00, 1.138e+00, 1.296e+00, 1.190e+00, 1.300e+00, 1.298e+00,\n",
    "  1.009e+00, 9.970e-01, 9.090e-01]]\n",
    "\n",
    "time_vector=[ 0,  20,  40,  60,  80, 100, 120, 140, 160, 180]"
   ]
  },
  {
   "cell_type": "code",
   "execution_count": null,
   "id": "3cbca477",
   "metadata": {},
   "outputs": [],
   "source": []
  }
 ],
 "metadata": {
  "kernelspec": {
   "display_name": "Python 3 (ipykernel)",
   "language": "python",
   "name": "python3"
  },
  "language_info": {
   "codemirror_mode": {
    "name": "ipython",
    "version": 3
   },
   "file_extension": ".py",
   "mimetype": "text/x-python",
   "name": "python",
   "nbconvert_exporter": "python",
   "pygments_lexer": "ipython3",
   "version": "3.9.13"
  }
 },
 "nbformat": 4,
 "nbformat_minor": 5
}
